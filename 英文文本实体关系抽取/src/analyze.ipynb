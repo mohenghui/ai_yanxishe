{
 "cells": [
  {
   "cell_type": "code",
   "execution_count": 1,
   "metadata": {},
   "outputs": [],
   "source": [
    "import numpy as np\n",
    "import pandas as pd"
   ]
  },
  {
   "cell_type": "code",
   "execution_count": 2,
   "metadata": {},
   "outputs": [
    {
     "data": {
      "text/html": [
       "<div>\n",
       "<style scoped>\n",
       "    .dataframe tbody tr th:only-of-type {\n",
       "        vertical-align: middle;\n",
       "    }\n",
       "\n",
       "    .dataframe tbody tr th {\n",
       "        vertical-align: top;\n",
       "    }\n",
       "\n",
       "    .dataframe thead th {\n",
       "        text-align: right;\n",
       "    }\n",
       "</style>\n",
       "<table border=\"1\" class=\"dataframe\">\n",
       "  <thead>\n",
       "    <tr style=\"text-align: right;\">\n",
       "      <th></th>\n",
       "      <th>text</th>\n",
       "      <th>label</th>\n",
       "    </tr>\n",
       "  </thead>\n",
       "  <tbody>\n",
       "    <tr>\n",
       "      <th>0</th>\n",
       "      <td>\"The &lt;e1&gt;harm&lt;/e1&gt; has been caused by the invi...</td>\n",
       "      <td>Cause-Effect(e2,e1)</td>\n",
       "    </tr>\n",
       "    <tr>\n",
       "      <th>1</th>\n",
       "      <td>\"He followed a specific procedure for obtainin...</td>\n",
       "      <td>Other</td>\n",
       "    </tr>\n",
       "    <tr>\n",
       "      <th>2</th>\n",
       "      <td>\"The &lt;e1&gt;study&lt;/e1&gt; is the first major contrib...</td>\n",
       "      <td>Product-Producer(e1,e2)</td>\n",
       "    </tr>\n",
       "    <tr>\n",
       "      <th>3</th>\n",
       "      <td>\"The Police has beaten him up, poured &lt;e1&gt;wate...</td>\n",
       "      <td>Entity-Destination(e1,e2)</td>\n",
       "    </tr>\n",
       "    <tr>\n",
       "      <th>4</th>\n",
       "      <td>\"As a little boy, he learned about &lt;e1&gt;politic...</td>\n",
       "      <td>Message-Topic(e2,e1)</td>\n",
       "    </tr>\n",
       "  </tbody>\n",
       "</table>\n",
       "</div>"
      ],
      "text/plain": [
       "                                                text  \\\n",
       "0  \"The <e1>harm</e1> has been caused by the invi...   \n",
       "1  \"He followed a specific procedure for obtainin...   \n",
       "2  \"The <e1>study</e1> is the first major contrib...   \n",
       "3  \"The Police has beaten him up, poured <e1>wate...   \n",
       "4  \"As a little boy, he learned about <e1>politic...   \n",
       "\n",
       "                       label  \n",
       "0        Cause-Effect(e2,e1)  \n",
       "1                      Other  \n",
       "2    Product-Producer(e1,e2)  \n",
       "3  Entity-Destination(e1,e2)  \n",
       "4       Message-Topic(e2,e1)  "
      ]
     },
     "execution_count": 2,
     "metadata": {},
     "output_type": "execute_result"
    }
   ],
   "source": [
    "train_df = pd.read_csv('../data/train.csv')\n",
    "train_df.head()"
   ]
  },
  {
   "cell_type": "code",
   "execution_count": 3,
   "metadata": {},
   "outputs": [
    {
     "data": {
      "text/plain": [
       "Other                        1478\n",
       "Entity-Destination(e1,e2)     906\n",
       "Cause-Effect(e2,e1)           691\n",
       "Member-Collection(e2,e1)      641\n",
       "Entity-Origin(e1,e2)          632\n",
       "Message-Topic(e1,e2)          564\n",
       "Component-Whole(e2,e1)        501\n",
       "Component-Whole(e1,e2)        492\n",
       "Instrument-Agency(e2,e1)      448\n",
       "Content-Container(e1,e2)      416\n",
       "Product-Producer(e2,e1)       409\n",
       "Cause-Effect(e1,e2)           392\n",
       "Product-Producer(e1,e2)       340\n",
       "Content-Container(e2,e1)      168\n",
       "Message-Topic(e2,e1)          161\n",
       "Entity-Origin(e2,e1)          146\n",
       "Instrument-Agency(e1,e2)      100\n",
       "Member-Collection(e1,e2)       88\n",
       "Name: label, dtype: int64"
      ]
     },
     "execution_count": 3,
     "metadata": {},
     "output_type": "execute_result"
    }
   ],
   "source": [
    "train_df['label'].value_counts()"
   ]
  },
  {
   "cell_type": "code",
   "execution_count": 4,
   "metadata": {},
   "outputs": [
    {
     "name": "stdout",
     "output_type": "stream",
     "text": [
      "85\n"
     ]
    }
   ],
   "source": [
    "texts = train_df.text.tolist()\n",
    "max_len = 0\n",
    "df_len_list = []\n",
    "for i in range(len(texts)):\n",
    "    text = []\n",
    "    text = texts[i].split(' ')\n",
    "    df_len_list.append(len(text))\n",
    "    max_len = max(max_len, len(text))\n",
    "print(max_len)"
   ]
  },
  {
   "cell_type": "code",
   "execution_count": 4,
   "metadata": {},
   "outputs": [
    {
     "data": {
      "text/plain": [
       "70"
      ]
     },
     "execution_count": 4,
     "metadata": {},
     "output_type": "execute_result"
    }
   ],
   "source": [
    "sorted_len = sorted(df_len_list)\n",
    "sorted_len[int(len(sorted_len)*0.999)]"
   ]
  }
 ],
 "metadata": {
  "kernelspec": {
   "display_name": "Python 3",
   "language": "python",
   "name": "python3"
  },
  "language_info": {
   "codemirror_mode": {
    "name": "ipython",
    "version": 3
   },
   "file_extension": ".py",
   "mimetype": "text/x-python",
   "name": "python",
   "nbconvert_exporter": "python",
   "pygments_lexer": "ipython3",
   "version": "3.6.9"
  },
  "pycharm": {
   "stem_cell": {
    "cell_type": "raw",
    "metadata": {
     "collapsed": false
    },
    "source": []
   }
  }
 },
 "nbformat": 4,
 "nbformat_minor": 2
}
